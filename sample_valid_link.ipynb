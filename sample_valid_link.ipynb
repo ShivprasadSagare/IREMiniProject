{
 "metadata": {
  "language_info": {
   "codemirror_mode": {
    "name": "ipython",
    "version": 3
   },
   "file_extension": ".py",
   "mimetype": "text/x-python",
   "name": "python",
   "nbconvert_exporter": "python",
   "pygments_lexer": "ipython3",
   "version": "3.8.5-final"
  },
  "orig_nbformat": 2,
  "kernelspec": {
   "name": "python_defaultSpec_1598429567955",
   "display_name": "Python 3.8.5 64-bit"
  }
 },
 "nbformat": 4,
 "nbformat_minor": 2,
 "cells": [
  {
   "cell_type": "code",
   "execution_count": 1,
   "metadata": {},
   "outputs": [],
   "source": [
    "import xml.sax\n",
    "import re"
   ]
  },
  {
   "cell_type": "markdown",
   "metadata": {},
   "source": [
    "Defining global dictionary here to store title and corresponding text collected across pages."
   ]
  },
  {
   "cell_type": "code",
   "execution_count": 2,
   "metadata": {},
   "outputs": [],
   "source": [
    "mapping = {}"
   ]
  },
  {
   "cell_type": "markdown",
   "metadata": {},
   "source": [
    "Defining very basic attributes here.\n",
    "Also need to know the exact implications of use of currentdata"
   ]
  },
  {
   "cell_type": "code",
   "execution_count": 3,
   "metadata": {},
   "outputs": [],
   "source": [
    "class wikiHandler(xml.sax.ContentHandler):\n",
    "    def __init__(self):\n",
    "        self.CurrentData = \"\"\n",
    "        self.title = \"\"\n",
    "        self.text = \"\"\n",
    "        #self.mapping = {}\n",
    "\n",
    "    def startElement(self, tag, attributes):\n",
    "        self.CurrentData = tag\n",
    "        if(self.CurrentData == 'page'):     #logic I found myself so that text data is not concatenated accross pages. \n",
    "            self.text = \"\"\n",
    "            self.title = \"\"\n",
    "\n",
    "    def characters(self, content):\n",
    "        if(self.CurrentData == \"title\"):\n",
    "            self.title += content\n",
    "        elif(self.CurrentData == \"text\"):\n",
    "            self.text += content            #logic I found myself from stackoverflow for extracting whole text data. \n",
    "\n",
    "    def endElement(self, tag):\n",
    "        global mapping                      #logic I found myself for accessing global variable inside class.\n",
    "        #if(tag == \"title\"):                 #logic I found myself for comparing endElement tag\n",
    "        if(tag == \"page\"):\n",
    "            if(not re.match('^#REDIRECT', self.text)):      #logic I found myself for eliminating textless redirect pages \n",
    "                mapping[self.title] = self.text\n",
    "        self.CurrentData = \"\"              #logic I found myself for avoiding the persistence of variables through the different pages\n"
   ]
  },
  {
   "cell_type": "code",
   "execution_count": 4,
   "metadata": {
    "tags": []
   },
   "outputs": [],
   "source": [
    "parser = xml.sax.make_parser()\n",
    "parser.setFeature(xml.sax.handler.feature_namespaces, 0)\n",
    "Handler = wikiHandler()\n",
    "parser.setContentHandler(Handler)"
   ]
  },
  {
   "cell_type": "code",
   "execution_count": 5,
   "metadata": {
    "tags": []
   },
   "outputs": [],
   "source": [
    "parser.parse(\"data.xml\")"
   ]
  },
  {
   "cell_type": "code",
   "execution_count": 7,
   "metadata": {},
   "outputs": [],
   "source": [
    "import pickle"
   ]
  },
  {
   "cell_type": "code",
   "execution_count": 8,
   "metadata": {},
   "outputs": [],
   "source": [
    "file_to_write = open(\"mapping.pickle\", \"wb\")\n",
    "\n",
    "pickle.dump(mapping, file_to_write)"
   ]
  },
  {
   "cell_type": "code",
   "execution_count": 14,
   "metadata": {},
   "outputs": [
    {
     "output_type": "execute_result",
     "data": {
      "text/plain": "15306"
     },
     "metadata": {},
     "execution_count": 14
    }
   ],
   "source": [
    "len(mapping.keys())"
   ]
  }
 ]
}